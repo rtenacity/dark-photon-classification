{
 "cells": [
  {
   "cell_type": "code",
   "execution_count": 7,
   "metadata": {},
   "outputs": [],
   "source": [
    "import pandas as pd\n",
    "import numpy as np\n",
    "import matplotlib.pyplot as plt\n",
    "import seaborn as sns\n",
    "from sklearn.preprocessing import StandardScaler\n",
    "from sklearn.linear_model import LogisticRegression\n",
    "from sklearn.ensemble import RandomForestClassifier\n",
    "from sklearn.svm import SVC\n",
    "from sklearn.model_selection import train_test_split\n",
    "from sklearn.metrics import accuracy_score, confusion_matrix, classification_report\n",
    "from imblearn.over_sampling import SMOTE\n",
    "from sklearn.utils.class_weight import compute_class_weight"
   ]
  },
  {
   "cell_type": "code",
   "execution_count": 33,
   "metadata": {},
   "outputs": [],
   "source": [
    "data = pd.read_csv('data/sim_with_razor_extended.csv')\n",
    "data = data.dropna()"
   ]
  },
  {
   "cell_type": "code",
   "execution_count": 34,
   "metadata": {},
   "outputs": [],
   "source": [
    "X_train, X_test, y_train, y_test = train_test_split(data.drop(columns=['Dark Photon Produced', 'Event Number'], axis = 1), data['Dark Photon Produced'], test_size=0.2, random_state=42)"
   ]
  },
  {
   "cell_type": "code",
   "execution_count": 46,
   "metadata": {},
   "outputs": [
    {
     "data": {
      "text/plain": [
       "MET                    0.005333\n",
       "Centrality             0.004579\n",
       "HT                     0.004568\n",
       "Sum E_T                0.004568\n",
       "Aplanarity             0.004498\n",
       "Sphericity             0.004382\n",
       "Invariant Mass         0.004342\n",
       "MR                     0.004342\n",
       "Delta R (Avg)          0.004303\n",
       "Rsq                    0.003889\n",
       "Event Number           0.001128\n",
       "Jet Multiplicity       0.000124\n",
       "Lepton Multiplicity    0.000057\n",
       "Cos(Theta) Jet-MET     0.000012\n",
       "Name: Dark Photon Produced, dtype: float64"
      ]
     },
     "execution_count": 46,
     "metadata": {},
     "output_type": "execute_result"
    }
   ],
   "source": [
    "correlation_matrix = data.corr()\n",
    "correlations_with_target = correlation_matrix['Dark Photon Produced'].drop('Dark Photon Produced')\n",
    "sorted_correlations = correlations_with_target.abs().sort_values(ascending=False)\n",
    "sorted_correlations"
   ]
  }
 ],
 "metadata": {
  "kernelspec": {
   "display_name": "Python 3",
   "language": "python",
   "name": "python3"
  },
  "language_info": {
   "codemirror_mode": {
    "name": "ipython",
    "version": 3
   },
   "file_extension": ".py",
   "mimetype": "text/x-python",
   "name": "python",
   "nbconvert_exporter": "python",
   "pygments_lexer": "ipython3",
   "version": "3.11.7"
  }
 },
 "nbformat": 4,
 "nbformat_minor": 2
}
